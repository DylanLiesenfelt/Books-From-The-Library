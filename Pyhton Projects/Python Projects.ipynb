{
 "cells": [
  {
   "cell_type": "markdown",
   "metadata": {},
   "source": [
    "Python Projects by Laura Cassell & Alan Gauld"
   ]
  },
  {
   "cell_type": "markdown",
   "metadata": {},
   "source": [
    "# Chapter - Reviewing Core Python"
   ]
  },
  {
   "cell_type": "markdown",
   "metadata": {},
   "source": [
    "## Variables and Types"
   ]
  },
  {
   "cell_type": "markdown",
   "metadata": {},
   "source": [
    "### Introduction"
   ]
  },
  {
   "cell_type": "markdown",
   "metadata": {},
   "source": [
    "* Everything in python is an object, therefore has methods. This means that you can perform a of operations on any variable.\n",
    "* Use dir() or help()\n",
    "* Variables are just names, they themselves do not have types, the object that is bound to that name is the one who has the type.\n",
    "* Assignment is performed using the = operator"
   ]
  },
  {
   "cell_type": "code",
   "execution_count": 1,
   "metadata": {},
   "outputs": [
    {
     "name": "stdout",
     "output_type": "stream",
     "text": [
      "1\n",
      "3\n",
      "True\n",
      "True\n"
     ]
    }
   ],
   "source": [
    "x = 1\n",
    "print(x)\n",
    "# This code binds the value of 1 to the variable named 'x'\n",
    "# Variables can be reassigned at any point\n",
    "x = 3\n",
    "print(x)\n",
    "# You can test equality of objects using '==' operator\n",
    "y = 3\n",
    "print(x == y)\n",
    "# Object identity (if two names refer to the same object) using the 'is' operator\n",
    "print(x is y)"
   ]
  },
  {
   "cell_type": "markdown",
   "metadata": {},
   "source": [
    "### Data Types"
   ]
  },
  {
   "cell_type": "markdown",
   "metadata": {},
   "source": [
    "* Python groups types according to how you can use them. All types are either mutable or immutable\n",
    "Immutable means you cant change an object of that type once it is created\n",
    "You can create a new data item and assign it to the same variable, but you cannot change the original immutable value\n",
    "\n",
    "* Python also supports several collection types, referred to as sequences.\n",
    "Collections are a subset of sequences. Sequences share a common set of operations.\n",
    "Not all sequences support all of the operations.\n",
    "\n",
    "* Some data types are callable, that means you can use the type name like a function to produce a new instance of the type.\n",
    "If no value is given, a default value is returned."
   ]
  },
  {
   "cell_type": "markdown",
   "metadata": {},
   "source": [
    "#### Numeric Types: Integers and Floats"
   ]
  },
  {
   "cell_type": "markdown",
   "metadata": {},
   "source": [
    "##### Integers\n",
    "Integers are theoretically infinite but are realistically limited by your computer's memory.\n",
    "Integer types are characterized by int, and can be use to create ints from floats or strings"
   ]
  },
  {
   "cell_type": "code",
   "execution_count": 16,
   "metadata": {},
   "outputs": [
    {
     "name": "stdout",
     "output_type": "stream",
     "text": [
      "5\n",
      "123\n",
      "43828\n"
     ]
    }
   ],
   "source": [
    "print(int(5.0))\n",
    "print(int('123'))\n",
    "# Can also convert form non-decimal bases (up to 36 not just binary, octal or hexadecimal)\n",
    "# Ex of convert from hexadecimal(base 16)\n",
    "intValue =  int('AB34',16)\n",
    "print(intValue)"
   ]
  },
  {
   "cell_type": "markdown",
   "metadata": {},
   "source": [
    "##### Floating Point Numbers\n",
    "* Floating point numbers are of the type float, and thus like int they have the built in type conversion method of float().\n",
    "* But unlike int() float can not convert numbers from different bases.\n",
    "* Use at own risk, Floats can often be imprecise, however python offers modules for handling of comparing floats."
   ]
  },
  {
   "cell_type": "markdown",
   "metadata": {},
   "source": [
    "#### Boolean Type"
   ]
  },
  {
   "cell_type": "markdown",
   "metadata": {},
   "source": [
    "* Type bool, holds literal values of True or False for boolean expressions.\n",
    "* The default value is false. ie: bool() == false.\n",
    "* In python int's == False if its value is 0, while any other value == True. Same is true for floats, 0.0 == False all others == True.\n",
    "* You can convert bool values to ints, using int(), in which False converts to 0, and True converts to 1. \n",
    "* bool has Boolean algebra operators and, or, and not, but does not have xor.\n",
    "* bool is implemented as a subclass of off ints, and thus can used in mathematical equations"
   ]
  },
  {
   "cell_type": "code",
   "execution_count": 17,
   "metadata": {},
   "outputs": [
    {
     "data": {
      "text/plain": [
       "0"
      ]
     },
     "execution_count": 17,
     "metadata": {},
     "output_type": "execute_result"
    }
   ],
   "source": [
    "True * False * 2\n",
    "#1 * 0 * 2"
   ]
  },
  {
   "cell_type": "markdown",
   "metadata": {},
   "source": [
    "* Python does support bitwise bool operations on ints.\n",
    "* & = and, or = |, ^ = not, ~ = xor"
   ]
  },
  {
   "cell_type": "markdown",
   "metadata": {},
   "source": [
    "#### None Type"
   ]
  },
  {
   "cell_type": "markdown",
   "metadata": {},
   "source": [
    "* Represents a null object, there is only one None object per python environment, so equality test are not reliable use identity test instead\n",
    "* None is the default return type of a python function.\n",
    "* None is not callable so their is no conversion of other types.\n",
    "* None has a bool value of False."
   ]
  },
  {
   "cell_type": "markdown",
   "metadata": {},
   "source": [
    "#### Collection Types\n"
   ]
  },
  {
   "cell_type": "markdown",
   "metadata": {},
   "source": [
    "##### Similarities in Collection Types"
   ]
  },
  {
   "cell_type": "markdown",
   "metadata": {},
   "source": [
    "* These include strings, bytes, tuples, lists, dictionaries and sets. all of these types share similarities.\n",
    "* len() function can be use on all to show the number of elements in that specific object.\n",
    "* Indexing is used to access specific elements of a collection object using []. starting with index 0 an d reverse order staring with -1.\n",
    "* Slicing is like indexing and can be use to select multiple elements of a collection type object."
   ]
  },
  {
   "cell_type": "code",
   "execution_count": 18,
   "metadata": {},
   "outputs": [
    {
     "name": "stdout",
     "output_type": "stream",
     "text": [
      "a\n",
      "string wow\n"
     ]
    }
   ],
   "source": [
    "# Examples \n",
    "#            01234567890123456789\n",
    "varString = 'This is a string wow'\n",
    "# Indexing \n",
    "print(varString[8])\n",
    "# Slicing \n",
    "print(varString[10:20])"
   ]
  },
  {
   "cell_type": "markdown",
   "metadata": {},
   "source": [
    "* You can use the built in sorted() to sort most collections.\n",
    "* The returned value is a sorted list containing the original elements"
   ]
  },
  {
   "cell_type": "code",
   "execution_count": 19,
   "metadata": {},
   "outputs": [
    {
     "data": {
      "text/plain": [
       "['1', '4', 'C', 'H', 'y', 'z']"
      ]
     },
     "execution_count": 19,
     "metadata": {},
     "output_type": "execute_result"
    }
   ],
   "source": [
    "# Sorting\n",
    "sorted('1HyzC4')"
   ]
  },
  {
   "cell_type": "markdown",
   "metadata": {},
   "source": [
    "* Generally empty collections are bool False, and True otherwise.\n",
    "* any() takes all elements of a collection and returns true if at least one element is == True.\n",
    "* all() returns True only if all elements == True, otherwise the collection will return as False."
   ]
  },
  {
   "cell_type": "markdown",
   "metadata": {},
   "source": [
    "##### Strings"
   ]
  },
  {
   "cell_type": "markdown",
   "metadata": {},
   "source": [
    "* Strings are basically a list of unicode characters. (Default UTF8, English).\n",
    "* Literal strings mus be enclosed in \" \" , ' ', ''' ''', or \"\"\" \"\"\". Start and end quotes must be the same, but other quotes could be used within others.\n",
    "* The triple quotes can span multiple lines.\n",
    "* Special charters like tab (\\t) or newline(\\n) are prefixed with \\, ie \\ would be \\\\, but this can be avoided by preceding the string wit r(raw) to indicate special character processing should not be done"
   ]
  },
  {
   "cell_type": "code",
   "execution_count": 20,
   "metadata": {},
   "outputs": [
    {
     "name": "stdout",
     "output_type": "stream",
     "text": [
      "\tThis is \n",
      "Jake's String wow\\\n",
      "\\tThis is \\nJake\\'s String wow\\\\\n"
     ]
    }
   ],
   "source": [
    "# Special CHaracters\n",
    "print('\\tThis is \\nJake\\'s String wow\\\\')\n",
    "# Raw\n",
    "print(r'\\tThis is \\nJake\\'s String wow\\\\')"
   ]
  },
  {
   "cell_type": "markdown",
   "metadata": {},
   "source": [
    "* Strings are immutable and thus can not be directly changed once formed. But can create a new string based off an existing one. \n",
    "* Common string operations include, + (concatenation), * (Iteration), upper lower and capitalize (change casing), center ljust rjust (justifying), startswith endswith (test for string matching), find index rfind (index returns), isalpha isdigit isalnum (test string content), join (similar to concatenation, more efficient joins together strings from a list), strip lstrip rstrip (strip white spaces), split splitlines partition (split strings into a list based of its elements), replace (string replacement), format (replaces printf style of formatting since it was deprecated since python3)."
   ]
  },
  {
   "cell_type": "markdown",
   "metadata": {},
   "source": [
    "##### Tuples"
   ]
  },
  {
   "cell_type": "markdown",
   "metadata": {},
   "source": [
    "* Collections of arbitrary objects, equivalent to structs or records in other languages.\n",
    "* Tuples consist of values separated by ',' and contained by '( )', but this is not requirement of the tuple itself.\n",
    "* Tuples are immutable.\n",
    "* Unpacking, this enables extraction of values from a tuple into discrete variables."
   ]
  },
  {
   "cell_type": "code",
   "execution_count": 21,
   "metadata": {},
   "outputs": [
    {
     "name": "stdout",
     "output_type": "stream",
     "text": [
      "(1, 5)\n",
      "1 5\n"
     ]
    }
   ],
   "source": [
    "# Example using divmod()\n",
    "print(divmod(12,7))\n",
    "q,r = divmod(12,7)\n",
    "print(q, r)"
   ]
  },
  {
   "cell_type": "markdown",
   "metadata": {},
   "source": [
    "* Empty tuples are == False, otherwise == Ture."
   ]
  },
  {
   "cell_type": "markdown",
   "metadata": {},
   "source": [
    "##### List "
   ]
  },
  {
   "cell_type": "markdown",
   "metadata": {},
   "source": [
    "* Flexible and powerful data structure.\n",
    "* Dynamic and like tuples can hold any object, but are mutable, so you can modify their content directly.\n",
    "* Can also use unpacking to assign values to discreet variables.\n",
    "* Literal list are expressed by values separated by ',' and enclosed by '[ ]'.\n",
    "* Can create an empty list by using [] or list().\n",
    "* Many methods for adding or removing element, also support some arithmetic style operations for concatenation and copying like strings.\n",
    "* Can initialize direct or programmatic."
   ]
  },
  {
   "cell_type": "code",
   "execution_count": 22,
   "metadata": {},
   "outputs": [
    {
     "name": "stdout",
     "output_type": "stream",
     "text": [
      "[1, 2, 3, 4, 5]\n"
     ]
    },
    {
     "data": {
      "text/plain": [
       "[4, 16, 36, 64, 100]"
      ]
     },
     "execution_count": 22,
     "metadata": {},
     "output_type": "execute_result"
    }
   ],
   "source": [
    "# Directly \n",
    "x = [1,2,3,4,5] \n",
    "print(x)\n",
    "# Programmatic\n",
    "[n*n for n in range(1,11) if not n*n % 2] "
   ]
  },
  {
   "cell_type": "markdown",
   "metadata": {},
   "source": [
    "List operations include:\n",
    "+ append (adds an element to the end of a list, none is returned) \n",
    "+ pop (removes element from end of a list, returns the item) \n",
    "+ extend (adds the content of one list to the end of another list, none is returned) \n",
    "+ index (returns the index of the first occurrence of an item within a list, raise valueError if not found)\n",
    "+ count (returns a count of a specified item in a list)\n",
    "+ insert (inserts an element before the specified index, if the index is to large element is instead appended to the end)\n",
    "+ remove (removes the first occurrence of a specified item from a list, raise valueError if item does not exist)\n",
    "+ reverse (reverse elements of a list )\n",
    "+ sort (Sorts, other parameters to adjust how sort is performed)"
   ]
  },
  {
   "cell_type": "markdown",
   "metadata": {},
   "source": [
    "##### Dictionaries "
   ]
  },
  {
   "cell_type": "markdown",
   "metadata": {},
   "source": [
    "* Dictionaries are used like list, but its elements are accessed by using a key, rather than numeric index. Elements are non-ordered.\n",
    "* Highly optimized, efficient look up times .\n",
    "* Solution to when dynamically named values need to be stored and accessed\n",
    "* Keys and their values are separated by ':'.\n"
   ]
  },
  {
   "cell_type": "code",
   "execution_count": 23,
   "metadata": {},
   "outputs": [
    {
     "name": "stdout",
     "output_type": "stream",
     "text": [
      "Keys: dict_keys(['key', 'carYear', 'Fruit'])\n",
      "Values: dict_values(['value', 1997, 'Banana'])\n"
     ]
    },
    {
     "data": {
      "text/plain": [
       "1997"
      ]
     },
     "execution_count": 23,
     "metadata": {},
     "output_type": "execute_result"
    }
   ],
   "source": [
    "testDict = {'key':'value', 'carYear':1997, 'Fruit':'Banana'}\n",
    "print(f'Keys: {testDict.keys()}\\nValues: {testDict.values()}')\n",
    "testDict['carYear']"
   ]
  },
  {
   "cell_type": "markdown",
   "metadata": {},
   "source": [
    "* keys(), values(), and items(): return the keys values or both listed within the dict\n",
    "* get(), pop(): get  reutrns the value of a key, pop works the sam e but instead removes that item from the list\n",
    "* setdefault(): acts like get but if the item does not exist in the dcit creates it instead."
   ]
  },
  {
   "cell_type": "markdown",
   "metadata": {},
   "source": [
    "#### Sets"
   ]
  },
  {
   "cell_type": "markdown",
   "metadata": {},
   "source": [
    "* Sets are the same as they are in mathematics. \n",
    "* Kind of like dicts but with no corresoponding values. Set values must be immutable and unique. \n",
    "* set() makes an empty set and the only way to describe an empty set since {} is an empty dict. will also convert collections to sets **Dict values will be lost\n",
    "* Python also has frozenset. A \"read-only\" type of set, can be used as an element of a regular set because it is immutable."
   ]
  },
  {
   "cell_type": "code",
   "execution_count": 24,
   "metadata": {},
   "outputs": [
    {
     "data": {
      "text/plain": [
       "[1, 3, 5, 9, 27, 78]"
      ]
     },
     "execution_count": 24,
     "metadata": {},
     "output_type": "execute_result"
    }
   ],
   "source": [
    "mySet = {5,9,1,27,3,78}\n",
    "sorted(mySet)"
   ]
  },
  {
   "cell_type": "markdown",
   "metadata": {},
   "source": [
    "* Sets do not support indexing, slicing.\n",
    "* sets have unique math style operators\n",
    "\n",
    "- in: checks if single element exist in the set\n",
    "- issubset, <=, <: test if set if a subset of target, checks if set is equal or greater, checks if set is greater than target. inverse ie: >=, >\n",
    "- union, |: Union of two sets\n",
    "- intersection, &: Returns intersection\n",
    "- difference, -: Returns diffrenece of 2 sets\n",
    "- symmetric_difference: returns elements of both sets not in intersection."
   ]
  },
  {
   "cell_type": "code",
   "execution_count": 25,
   "metadata": {},
   "outputs": [
    {
     "name": "stdout",
     "output_type": "stream",
     "text": [
      "Union{1, 2, 3, 4, 5, 6, 7, 8, 9, 10}\n",
      "Intersection: {5, 6, 7}\n",
      "Difference: {1, 2, 3, 4}\n",
      "Symmetric Dif: {1, 2, 3, 4, 8, 9, 10}\n"
     ]
    }
   ],
   "source": [
    "set1 = {1,2,3,4,5,6,7}\n",
    "set2 = {5,6,7,8,9,10}\n",
    "\n",
    "print(f'Union{set1.union(set2)}\\nIntersection: {set1.intersection(set2)}\\nDifference: {set1.difference(set2)}\\nSymmetric Dif: {set1.symmetric_difference(set2)}')\n"
   ]
  },
  {
   "cell_type": "markdown",
   "metadata": {},
   "source": [
    "NOTE: the methods wil work with any collection wheras the infix operator will only work for sets (<=>,|,&,-,^)\n",
    "\n",
    "* Empty sets are considered bool false"
   ]
  },
  {
   "cell_type": "markdown",
   "metadata": {},
   "source": [
    "Set Modifier operations\n",
    "- update, |=: add elements of traget set to source set\n",
    "- intersection_update, &= : remove all elements except those in the intersection\n",
    "- difference_update -= : same ^ \n",
    "- symmetric_difference_update, ^= : same ^\n",
    "- add : adds given element to a set\n",
    "- discard : removes given element from set if it exists\n",
    "- clear : removes all elements from a set"
   ]
  },
  {
   "cell_type": "markdown",
   "metadata": {},
   "source": [
    "## Using Python Control Structures"
   ]
  },
  {
   "cell_type": "markdown",
   "metadata": {},
   "source": [
    "* Python programs do not have a predefined entry point ie: ( main() such as in C ).\n",
    "* Python is excuted top to bottom from the source code."
   ]
  },
  {
   "cell_type": "markdown",
   "metadata": {},
   "source": [
    "## Using Sequences, Blocks and Comments"
   ]
  },
  {
   "cell_type": "markdown",
   "metadata": {},
   "source": [
    "* Python statments ussualy occur line by line, so a sequence is a series of lines, ie:"
   ]
  },
  {
   "cell_type": "code",
   "execution_count": null,
   "metadata": {},
   "outputs": [],
   "source": [
    "x = 2\n",
    "y = 7\n",
    "z = 9\n",
    "\n",
    "#or\n",
    "\n",
    "x = 2 ; y = 7 ; z = 9 # not recommended but allowed"
   ]
  },
  {
   "cell_type": "markdown",
   "metadata": {},
   "source": [
    "* Python is a block structured language, blocks are indicated by indentation level. The ammount of indentation is not rigid, python does not care how many indents you use as long as they are the same per block\n",
    "* TAB is reccommended"
   ]
  },
  {
   "cell_type": "code",
   "execution_count": 26,
   "metadata": {},
   "outputs": [
    {
     "name": "stdout",
     "output_type": "stream",
     "text": [
      "This works with one indent\n",
      "This works with a lot of indents\n"
     ]
    }
   ],
   "source": [
    "def printStuf():\n",
    " print('This works with one indent')\n",
    "\n",
    "def printMore():\n",
    "              print('This works with a lot of indents')\n",
    "\n",
    "printStuf()\n",
    "printMore()"
   ]
  },
  {
   "cell_type": "markdown",
   "metadata": {},
   "source": [
    "* Comments start with # and continue to end of the line, python ignores indentation level for comments but recommend to keep inline with code block for readabillity"
   ]
  },
  {
   "cell_type": "markdown",
   "metadata": {},
   "source": [
    "### Selecting Exectution Path"
   ]
  },
  {
   "cell_type": "markdown",
   "metadata": {},
   "source": [
    "#### if/elif/else statements"
   ]
  },
  {
   "cell_type": "code",
   "execution_count": 28,
   "metadata": {},
   "outputs": [
    {
     "name": "stdout",
     "output_type": "stream",
     "text": [
      "x kinda big\n"
     ]
    }
   ],
   "source": [
    "x = 10\n",
    "\n",
    "if x < 5:\n",
    "    print('x is small')\n",
    "elif x > 5:\n",
    "    print('x kinda big')\n",
    "else:\n",
    "    print('x isnt real')"
   ]
  },
  {
   "cell_type": "markdown",
   "metadata": {},
   "source": [
    "* There can only be one if statement to starts the selection tree and only one else statment to end it, but arbitary ammount of elif statements."
   ]
  },
  {
   "cell_type": "markdown",
   "metadata": {},
   "source": [
    "#### Conditional Expression"
   ]
  },
  {
   "cell_type": "code",
   "execution_count": 30,
   "metadata": {},
   "outputs": [
    {
     "data": {
      "text/plain": [
       "2"
      ]
     },
     "execution_count": 30,
     "metadata": {},
     "output_type": "execute_result"
    }
   ],
   "source": [
    "number = 1\n",
    "increment = 1\n",
    "limit = 10 \n",
    "\n",
    "number = number + increment if number < limit else 0\n",
    "number"
   ]
  },
  {
   "cell_type": "markdown",
   "metadata": {},
   "source": [
    "* Essentially the same as if/elif/else statements but with diffrent strutcure.\n",
    "* Can cause hard to read and obsecure code, best to use if/elif/else statements."
   ]
  },
  {
   "cell_type": "markdown",
   "metadata": {},
   "source": [
    "* NOTE: For comparison operators when testing if a value lies inbetween you have to seperate test\n",
    "\n",
    "\n",
    "    example:  if myValue < upper and myValue > lower:\n",
    "\n",
    "* Pyhton can do this but offers a shorcut:\n",
    "   \n",
    "    if lower < myValue < upper"
   ]
  },
  {
   "cell_type": "markdown",
   "metadata": {},
   "source": [
    "### Itteration "
   ]
  },
  {
   "cell_type": "markdown",
   "metadata": {},
   "source": [
    "#### While Loop"
   ]
  },
  {
   "cell_type": "code",
   "execution_count": null,
   "metadata": {},
   "outputs": [],
   "source": [
    "# Example of Structure\n",
    "while boolExpression:\n",
    "    # do something"
   ]
  },
  {
   "cell_type": "code",
   "execution_count": 32,
   "metadata": {},
   "outputs": [
    {
     "name": "stdout",
     "output_type": "stream",
     "text": [
      "x was true\n",
      "x is now false\n"
     ]
    }
   ],
   "source": [
    "x = True\n",
    "while x is True:\n",
    "    print('x was true')\n",
    "    x = False\n",
    "else:\n",
    "    print('x is now false')"
   ]
  },
  {
   "cell_type": "markdown",
   "metadata": {},
   "source": [
    "* There are two ways to exit out of a while loop regardless of our statment.\n",
    "- Break, exits loop immedately\n",
    "- Return, works if loop is inside a function and returns the value and exits the loop and the function.\n",
    "\n",
    "* Else clause is not required for while loops , and would not be executed if loop is terminated by break or return.\n",
    "\n",
    "* Watch out for infinite loops, example: while True\n",
    "\n",
    "* A companion to break is continue, where break exits the blockand the whole loop, continue only exits the current block of the itteration only. "
   ]
  },
  {
   "cell_type": "markdown",
   "metadata": {},
   "source": [
    "#### For Loop"
   ]
  },
  {
   "cell_type": "code",
   "execution_count": null,
   "metadata": {},
   "outputs": [],
   "source": [
    "for item in itterable:\n",
    "    # Do Something"
   ]
  },
  {
   "cell_type": "code",
   "execution_count": 35,
   "metadata": {},
   "outputs": [
    {
     "name": "stdout",
     "output_type": "stream",
     "text": [
      "5\n"
     ]
    }
   ],
   "source": [
    "l1 = [1,2,3,4,5]\n",
    "count = 0\n",
    "for number in l1:\n",
    "    count += 1\n",
    "\n",
    "print(count)\n"
   ]
  },
  {
   "cell_type": "markdown",
   "metadata": {},
   "source": [
    "* The for loop takes each item of an itterable and executes the code block once per item .\n",
    "* Can use break, return, and continue as described earlier.\n",
    "* Else function is still the same as with while loop as well."
   ]
  },
  {
   "cell_type": "markdown",
   "metadata": {},
   "source": [
    "* enumerate() is very useful in for loops.\n",
    "* returns tuples containing both the iterable item and a sequence number ( default is same as index number)"
   ]
  },
  {
   "cell_type": "markdown",
   "metadata": {},
   "source": [
    "#### List Comprehension"
   ]
  },
  {
   "cell_type": "markdown",
   "metadata": {},
   "source": [
    "* Specific application of a more general loop known as a generator expression that you can use  where you might otherwise have a sequence of litteral values."
   ]
  },
  {
   "cell_type": "code",
   "execution_count": null,
   "metadata": {},
   "outputs": [],
   "source": [
    "# Structure\n",
    "<result expression> for <loop var> in <iterable> if <filter expression>"
   ]
  },
  {
   "cell_type": "code",
   "execution_count": 37,
   "metadata": {},
   "outputs": [
    {
     "data": {
      "text/plain": [
       "[4, 16, 36, 64, 100]"
      ]
     },
     "execution_count": 37,
     "metadata": {},
     "output_type": "execute_result"
    }
   ],
   "source": [
    "[n*n for n in range(1,11) if not n*n % 2]"
   ]
  },
  {
   "cell_type": "markdown",
   "metadata": {},
   "source": [
    "### Handlng Exceptions"
   ]
  },
  {
   "cell_type": "markdown",
   "metadata": {},
   "source": [
    "There are two ways of to detecting errors.\n",
    "* Checking each action as its performed.\n",
    "* Attemp the opperations and rely on system generating an erro condtion, or exception, if something goes wrong.\n",
    "While the first may be apporpiate for some condtions, the second is far more common in python.\n",
    "\n",
    "Python supports this with try\\ecept\\else\\finally construct."
   ]
  },
  {
   "cell_type": "code",
   "execution_count": 38,
   "metadata": {},
   "outputs": [],
   "source": [
    "#Structure\n",
    "\n",
    "try:\n",
    "    a block of code\n",
    "except <an error type> as <anExceptionObject>:\n",
    "    a block of error handling code\n",
    "else:\n",
    "    another block of code\n",
    "finally:\n",
    "    block of clean up code"
   ]
  },
  {
   "cell_type": "markdown",
   "metadata": {},
   "source": [
    "except, else, and finally are optional, although at least one of except or finally must exist if a try statement is used.\n",
    "\n",
    "There can be multiple except clauses, but only one else or finally. You can as omit the 'as' part of the exception statment if exception details are not required.\n",
    "\n",
    "note to self page 20 "
   ]
  }
 ],
 "metadata": {
  "kernelspec": {
   "display_name": "Python 3",
   "language": "python",
   "name": "python3"
  },
  "language_info": {
   "codemirror_mode": {
    "name": "ipython",
    "version": 3
   },
   "file_extension": ".py",
   "mimetype": "text/x-python",
   "name": "python",
   "nbconvert_exporter": "python",
   "pygments_lexer": "ipython3",
   "version": "3.12.2"
  }
 },
 "nbformat": 4,
 "nbformat_minor": 2
}
