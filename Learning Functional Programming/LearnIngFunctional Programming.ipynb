{
 "cells": [
  {
   "cell_type": "markdown",
   "metadata": {},
   "source": [
    "Learning Functional Programming by Jack Widman\n",
    "\n",
    "Note this book gives examples in many languages, however I will be changing them all to python for JupyterNb simplicity."
   ]
  },
  {
   "cell_type": "markdown",
   "metadata": {},
   "source": [
    "# Chapter: What is Functional Programming?"
   ]
  },
  {
   "cell_type": "markdown",
   "metadata": {},
   "source": [
    "## Intro"
   ]
  },
  {
   "cell_type": "markdown",
   "metadata": {},
   "source": [
    "Imperative Programming: Plain old programming, prior to OOP and FP. Functions, loops, mutate state.\n",
    "\n",
    "Object-Oriented Programming: Collection of objects. Each object has state and methods relevant to objects behavior. Benefits include encapsulation (state and methods of an object exist within the object.) Easier to manage state this way.\n",
    "\n",
    "Functional Programming: The approach is similar to OOP's encapsulation, but further, with the hope of eradicating state change."
   ]
  },
  {
   "cell_type": "markdown",
   "metadata": {},
   "source": [
    "## Immutability"
   ]
  },
  {
   "cell_type": "markdown",
   "metadata": {},
   "source": [
    "Immutability: Very important to FP. Means a lack of change, if we can not modify it we consider it immutable. But just because something is immutable does not make it FP."
   ]
  },
  {
   "cell_type": "code",
   "execution_count": 12,
   "metadata": {},
   "outputs": [
    {
     "name": "stdout",
     "output_type": "stream",
     "text": [
      "0\n",
      "1\n",
      "2\n",
      "3\n",
      "4\n",
      "5\n"
     ]
    }
   ],
   "source": [
    "for i in range(6):\n",
    "    print(i)"
   ]
  },
  {
   "cell_type": "markdown",
   "metadata": {},
   "source": [
    "How can this code be expressed immutably? The essence of this code is to change the  value of the variable i. A common approach in FP is to use a recursive function."
   ]
  },
  {
   "cell_type": "code",
   "execution_count": 11,
   "metadata": {},
   "outputs": [
    {
     "name": "stdout",
     "output_type": "stream",
     "text": [
      "0\n",
      "1\n",
      "2\n",
      "3\n",
      "4\n",
      "5\n"
     ]
    }
   ],
   "source": [
    "def f(i):\n",
    "    if i > 5:\n",
    "        return\n",
    "    else:\n",
    "        print(i)\n",
    "        return f(i + 1)\n",
    "\n",
    "f(0)"
   ]
  },
  {
   "cell_type": "markdown",
   "metadata": {},
   "source": [
    "This code does not mutate state. There are side effects, anything that affects the program outside of the function; writing to a file, throwing an exception , or modifying a global variable.\n",
    "* Mutating state may feel natural, but leads to code complexity.\n",
    "* In FP all functions should return a value"
   ]
  }
 ],
 "metadata": {
  "kernelspec": {
   "display_name": "Python 3",
   "language": "python",
   "name": "python3"
  },
  "language_info": {
   "codemirror_mode": {
    "name": "ipython",
    "version": 3
   },
   "file_extension": ".py",
   "mimetype": "text/x-python",
   "name": "python",
   "nbconvert_exporter": "python",
   "pygments_lexer": "ipython3",
   "version": "3.11.5"
  }
 },
 "nbformat": 4,
 "nbformat_minor": 2
}
