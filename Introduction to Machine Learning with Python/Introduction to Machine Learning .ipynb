{
 "cells": [
  {
   "cell_type": "markdown",
   "metadata": {},
   "source": [
    "Introduction to Machine Learning \n",
    "\n",
    "By Andr"
   ]
  },
  {
   "cell_type": "markdown",
   "metadata": {},
   "source": [
    "# Chapter 1: Introduction"
   ]
  },
  {
   "cell_type": "markdown",
   "metadata": {},
   "source": [
    "Machine learning "
   ]
  },
  {
   "cell_type": "code",
   "execution_count": 4,
   "metadata": {},
   "outputs": [
    {
     "name": "stdout",
     "output_type": "stream",
     "text": [
      "Python Version: 3.12.2 (main, Feb 21 2024, 00:00:00) [GCC 14.0.1 20240217 (Red Hat 14.0.1-0)]\n",
      "Pandas Version: 2.2.2\n",
      "matplotlib Version: 3.9.0\n",
      "numpy Version: 2.0.0\n",
      "scipy Version: 1.13.1\n",
      "IPython Version: 8.25.0\n",
      "scikit-learn Version: 1.5.0\n"
     ]
    }
   ],
   "source": [
    "import sys\n",
    "print(\"Python Version:\", sys.version)\n",
    "\n",
    "import pandas as pd \n",
    "print(\"Pandas Version:\", pd.__version__)\n",
    "\n",
    "import matplotlib\n",
    "print('matplotlib Version:', matplotlib.__version__)\n",
    "\n",
    "import numpy as np\n",
    "print(\"numpy Version:\", np.__version__)\n",
    "\n",
    "import scipy as sp\n",
    "print(\"scipy Version:\", sp.__version__)\n",
    "\n",
    "import IPython\n",
    "print(\"IPython Version:\", IPython.__version__)\n",
    "\n",
    "import sklearn\n",
    "print(\"scikit-learn Version:\", sklearn.__version__)"
   ]
  }
 ],
 "metadata": {
  "kernelspec": {
   "display_name": "Python 3",
   "language": "python",
   "name": "python3"
  },
  "language_info": {
   "codemirror_mode": {
    "name": "ipython",
    "version": 3
   },
   "file_extension": ".py",
   "mimetype": "text/x-python",
   "name": "python",
   "nbconvert_exporter": "python",
   "pygments_lexer": "ipython3",
   "version": "3.12.2"
  }
 },
 "nbformat": 4,
 "nbformat_minor": 2
}
