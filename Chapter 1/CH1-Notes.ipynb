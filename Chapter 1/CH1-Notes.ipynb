{
 "cells": [
  {
   "cell_type": "markdown",
   "metadata": {},
   "source": [
    "# Chapter 1: \n",
    "### Reviewing Core Python\n",
    "\n",
    "* Everything in python is an object, therefore has methods. This means that you can perform a of operations on any variable.\n",
    "* Use dir() or help()\n",
    "\n",
    "### Variables and types\n",
    "* Variables are just names , they themseleves do not have types, the object that is bound to that name is the one who has the type.\n",
    "* Assignment is performed using the = operator"
   ]
  },
  {
   "cell_type": "code",
   "execution_count": 11,
   "metadata": {},
   "outputs": [
    {
     "name": "stdout",
     "output_type": "stream",
     "text": [
      "1\n",
      "3\n",
      "True\n",
      "True\n"
     ]
    }
   ],
   "source": [
    "x = 1\n",
    "print(x)\n",
    "# This code binds the value of 1 to the variable named 'x'\n",
    "# Variables can be reassigned at any point\n",
    "x = 3\n",
    "print(x)\n",
    "# You can test equality of objects using '==' operator\n",
    "y = 3\n",
    "print(x == y)\n",
    "# Object indentity (if two names refer to the same object) using the 'is' operator\n",
    "print(x is y)"
   ]
  },
  {
   "cell_type": "markdown",
   "metadata": {},
   "source": [
    "Python groups types according to how you can use them. All types are either mutable or immutable\n",
    "Immutable means you cant change an object of that type once it is created\n",
    "You can create a new data item and assign it to the same variable, but you cannot change the original immutable value\n",
    "\n",
    "Pyhton also supports several collection types, referred to as sequences.\n",
    "Collections are a subset of sequences. Sequences share a common set of operations \n",
    "Not all sequences support all of the operations \n",
    "\n",
    "Some data types are callable, that means you can use the type name like a function to produce a new instance of the type.\n",
    "If no value is given, a default value is returned.\n",
    "\n"
   ]
  }
 ],
 "metadata": {
  "kernelspec": {
   "display_name": "Python 3",
   "language": "python",
   "name": "python3"
  },
  "language_info": {
   "codemirror_mode": {
    "name": "ipython",
    "version": 3
   },
   "file_extension": ".py",
   "mimetype": "text/x-python",
   "name": "python",
   "nbconvert_exporter": "python",
   "pygments_lexer": "ipython3",
   "version": "3.11.5"
  }
 },
 "nbformat": 4,
 "nbformat_minor": 2
}
