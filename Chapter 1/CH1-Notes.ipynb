{
 "cells": [
  {
   "cell_type": "markdown",
   "metadata": {},
   "source": [
    "# Chapter 1: \n",
    "### Reviewing Core Python\n",
    "\n",
    "* Everything in python is an object, therefore has methods. This means that you can perform a of operations on any variable.\n",
    "* Use dir() or help()\n",
    "\n",
    "### Variables and types\n",
    "* Variables are just names , they themseleves do not have types, the object that is bound to that name is the one who has the type.\n",
    "* Assignment is performed using the = operator"
   ]
  },
  {
   "cell_type": "code",
   "execution_count": 11,
   "metadata": {},
   "outputs": [
    {
     "name": "stdout",
     "output_type": "stream",
     "text": [
      "1\n",
      "3\n",
      "True\n",
      "True\n"
     ]
    }
   ],
   "source": [
    "x = 1\n",
    "print(x)\n",
    "# This code binds the value of 1 to the variable named 'x'\n",
    "# Variables can be reassigned at any point\n",
    "x = 3\n",
    "print(x)\n",
    "# You can test equality of objects using '==' operator\n",
    "y = 3\n",
    "print(x == y)\n",
    "# Object indentity (if two names refer to the same object) using the 'is' operator\n",
    "print(x is y)"
   ]
  },
  {
   "cell_type": "markdown",
   "metadata": {},
   "source": [
    "### Data Types\n",
    "Python groups types according to how you can use them. All types are either mutable or immutable\n",
    "Immutable means you cant change an object of that type once it is created\n",
    "You can create a new data item and assign it to the same variable, but you cannot change the original immutable value\n",
    "\n",
    "Pyhton also supports several collection types, referred to as sequences.\n",
    "Collections are a subset of sequences. Sequences share a common set of operations \n",
    "Not all sequences support all of the operations \n",
    "\n",
    "Some data types are callable, that means you can use the type name like a function to produce a new instance of the type.\n",
    "If no value is given, a default value is returned."
   ]
  },
  {
   "cell_type": "markdown",
   "metadata": {},
   "source": [
    "#### Numeric Types: Integers and Floats\n",
    "##### Integers\n",
    "Integeres are theroretically infinite but are realistically limted by your computers memory.\n",
    "Integer types are characterized by int, and can be use to create ints from floats or strings"
   ]
  },
  {
   "cell_type": "code",
   "execution_count": 3,
   "metadata": {},
   "outputs": [
    {
     "name": "stdout",
     "output_type": "stream",
     "text": [
      "5\n",
      "123\n",
      "43828\n"
     ]
    }
   ],
   "source": [
    "print(int(5.0))\n",
    "print(int('123'))\n",
    "# Can also convert form non-decimal bases (up to 36 not just binary, octal or hexadecimal)\n",
    "# Ex of convert from hexadecimal(base 16)\n",
    "intValue =  int('AB34',16)\n",
    "print(intValue)"
   ]
  },
  {
   "cell_type": "markdown",
   "metadata": {},
   "source": [
    "#### Floating Point Numbers\n",
    "* Floating point numbers are of the type float, and thus like int they have the built in type conversion method of float().\n",
    "* But unlike int() float can not convert numbers from diffrent bases.\n",
    "* Use at own risk, Floats can often be impercise, however python offers modules for handling of comparing floats."
   ]
  },
  {
   "cell_type": "markdown",
   "metadata": {},
   "source": [
    "### Boolean Type\n",
    "* Type bool, holds litteral values of True or Flase for boolean expressions.\n",
    "* The default value is false. ie: bool() == false.\n",
    "* In python int's == False if its value is 0, while anyother value == True. Same is true for floats, 0.0 == False all others == True.\n",
    "* You can convert bool values to ints, using int(), in which False converts to 0, and True converts to 1. \n",
    "* bool has Boolean algebra operators and, or, and not, but does not have xor.\n",
    "* bool is implemented as a subclass of off ints, and thus can used in mathemateical equations"
   ]
  },
  {
   "cell_type": "code",
   "execution_count": 7,
   "metadata": {},
   "outputs": [
    {
     "data": {
      "text/plain": [
       "0"
      ]
     },
     "execution_count": 7,
     "metadata": {},
     "output_type": "execute_result"
    }
   ],
   "source": [
    "True * False * 2\n",
    "#1 * 0 * 2"
   ]
  },
  {
   "cell_type": "markdown",
   "metadata": {},
   "source": [
    "* Python does support bitwise bool operations on ints.\n",
    "* & = and, or = |, ^ = not, ~ = xor"
   ]
  },
  {
   "cell_type": "markdown",
   "metadata": {},
   "source": [
    "### None Type\n",
    "* Represents a null object, there is only one None object per python enviroment, so equality test are not reliable use indentity test instead"
   ]
  },
  {
   "cell_type": "code",
   "execution_count": null,
   "metadata": {},
   "outputs": [],
   "source": [
    "var  == None # No\n",
    "var is None # Yes "
   ]
  },
  {
   "cell_type": "markdown",
   "metadata": {},
   "source": [
    "* None is the default return type of a python function. \n",
    "* None is not calllable so ther ei s no conversion of other types.\n",
    "* None has a bool value of False."
   ]
  },
  {
   "cell_type": "markdown",
   "metadata": {},
   "source": [
    "### Collection Types\n",
    "* These include strings, bytes, tuples, lists, dictionaries and sets. all of these types share similarities.\n",
    "* len() function can be use on all to show the number of elements in that specfic object.\n",
    "* Indexing is used to access specific elements of a collection object using []. starting with index 0 an d reverse order staring with -1.\n",
    "* Slicing is like indexing and can be use to select multiple elements of a collection type object."
   ]
  },
  {
   "cell_type": "code",
   "execution_count": 11,
   "metadata": {},
   "outputs": [
    {
     "name": "stdout",
     "output_type": "stream",
     "text": [
      "a\n",
      "string wow\n"
     ]
    }
   ],
   "source": [
    "# Examples \n",
    "#            01234567890123456789\n",
    "varString = 'This is a string wow'\n",
    "# Indexing \n",
    "print(varString[8])\n",
    "# Slicing \n",
    "print(varString[10:20])"
   ]
  },
  {
   "cell_type": "markdown",
   "metadata": {},
   "source": [
    "* You can use the built in sorted() to sort most collections.\n",
    "* The returned value is a sorted list containing the orginal elements"
   ]
  },
  {
   "cell_type": "code",
   "execution_count": 13,
   "metadata": {},
   "outputs": [
    {
     "data": {
      "text/plain": [
       "['1', '4', 'C', 'H', 'y', 'z']"
      ]
     },
     "execution_count": 13,
     "metadata": {},
     "output_type": "execute_result"
    }
   ],
   "source": [
    "# Sorting\n",
    "sorted('1HyzC4')"
   ]
  },
  {
   "cell_type": "markdown",
   "metadata": {},
   "source": [
    "* Generally empty collections are bool False, and Ture otherwise.\n",
    "* any() takes all elements of a collection and returns true if at least one element is == True.\n",
    "* all() returns True only if all elements == True, otherwise the collection will return as False."
   ]
  },
  {
   "cell_type": "markdown",
   "metadata": {},
   "source": [
    "#### Strings\n",
    "* Strings are basically a list of unicode characters. (Default UTF8, English).\n",
    "* Litteral strings mus be enclosed in \" \" , ' ', ''' ''', or \"\"\" \"\"\". Start and end quotes must be the same, but other qoutes could be used within others.\n",
    "* The tripple qouets can span multiple lines.\n",
    "* Special charters like tab (\\t) or newline(\\n) are prefixed with \\, ie \\ would be \\\\, but this can be avoided by preceding the string wit r(raw) to indicate special character processing should not be done"
   ]
  },
  {
   "cell_type": "code",
   "execution_count": 16,
   "metadata": {},
   "outputs": [
    {
     "name": "stdout",
     "output_type": "stream",
     "text": [
      "\tThis is \n",
      "Jake's Sring wow\\\n",
      "\\tThis is \\nJake\\'s Sring wow\\\\\n"
     ]
    }
   ],
   "source": [
    "# Special CHaracters\n",
    "print('\\tThis is \\nJake\\'s Sring wow\\\\')\n",
    "# Raw\n",
    "print(r'\\tThis is \\nJake\\'s Sring wow\\\\')\n",
    "\n"
   ]
  },
  {
   "cell_type": "markdown",
   "metadata": {},
   "source": [
    "* Strings are immmutable and thus can not be directly changed once formed. But can create a new string based off an existing one. \n",
    "* Common string operations include, + (concatenation), * (Iteraration), upper lower and capitalize (change casing), center ljust rjust (justifying), startswith endswith (test for string matching), find index rfind (index returns), isalpha isdigit isalnum (test string content), join (similar to concatenation, more efficent joins together strings from a list), strip lstrip rstrip (strip whitespaces), split splitlines partition (split strings into a list based of its elements), replace (string replacement), format (replaces printf style of formatting since it was deprecated since python3)."
   ]
  },
  {
   "cell_type": "markdown",
   "metadata": {},
   "source": [
    "### Tuples \n",
    "* Collections of arbitary objects, equivalent to structs or records in other languages.\n",
    "* Tuples consist of values seperated by ',' and contained by '( )', but this is not requirement of the tuple itself.\n",
    "* Tuples are immutable.\n",
    "* Unpacking, this enables extraction of values from a tuple into discrete variables."
   ]
  },
  {
   "cell_type": "code",
   "execution_count": 20,
   "metadata": {},
   "outputs": [
    {
     "name": "stdout",
     "output_type": "stream",
     "text": [
      "(1, 5)\n",
      "1 5\n"
     ]
    }
   ],
   "source": [
    "# Example using divmod()\n",
    "print(divmod(12,7))\n",
    "q,r = divmod(12,7)\n",
    "print(q, r)"
   ]
  },
  {
   "cell_type": "markdown",
   "metadata": {},
   "source": [
    "* Empty tuples are == False, otherwise == Ture."
   ]
  },
  {
   "cell_type": "markdown",
   "metadata": {},
   "source": [
    "### List \n",
    "* Flexible and powerful data structure.\n",
    "* Dynamic and like tuples can hold any object, but are mutable, so you can modify thier content directly.\n",
    "* Can also use unpacking to assign values to discret variables.\n",
    "* Litteral list are expressed by values sepperated by ',' and enclosed by '[ ]'.\n",
    "* Can create an empty list by using [] or list().\n",
    "* Many methods for adding or removing element, also support some arthmetic style opperations for concatenation and copying like strings.\n",
    "* Can initalize direct or progamatically."
   ]
  },
  {
   "cell_type": "code",
   "execution_count": 23,
   "metadata": {},
   "outputs": [
    {
     "name": "stdout",
     "output_type": "stream",
     "text": [
      "[1, 2, 3, 4, 5]\n"
     ]
    },
    {
     "data": {
      "text/plain": [
       "[4, 16, 36, 64, 100]"
      ]
     },
     "execution_count": 23,
     "metadata": {},
     "output_type": "execute_result"
    }
   ],
   "source": [
    "# Directly \n",
    "x = [1,2,3,4,5] \n",
    "print(x)\n",
    "# Progamatically\n",
    "[n*n for n in range(1,11) if not n*n % 2] "
   ]
  },
  {
   "cell_type": "markdown",
   "metadata": {},
   "source": [
    "* List operations include:\n",
    "+ append (adds an element to the end of a list, none is returned) \n",
    "+ pop (removes element from end of a list, returns the item) \n",
    "+ extend (adds the content of one list to the end of anothr list, none is returned) \n",
    "+ index (returns the index of the first occurence of an item within a list, raise valueError if not found)\n",
    "+ count (returns a count of a specified item in a list)\n",
    "+ insert (inserts an element before the specified index, if the index is to large element is instead appended to the end)\n",
    "+ remove (removes the first occurence of a specified item from a list, rasie valueError if item does not exist)\n",
    "+ reverse (reverse elements of a list )\n",
    "+ sort (Sorts, other parameters to adjust how sort is performed)"
   ]
  }
 ],
 "metadata": {
  "kernelspec": {
   "display_name": "Python 3",
   "language": "python",
   "name": "python3"
  },
  "language_info": {
   "codemirror_mode": {
    "name": "ipython",
    "version": 3
   },
   "file_extension": ".py",
   "mimetype": "text/x-python",
   "name": "python",
   "nbconvert_exporter": "python",
   "pygments_lexer": "ipython3",
   "version": "3.11.5"
  }
 },
 "nbformat": 4,
 "nbformat_minor": 2
}
